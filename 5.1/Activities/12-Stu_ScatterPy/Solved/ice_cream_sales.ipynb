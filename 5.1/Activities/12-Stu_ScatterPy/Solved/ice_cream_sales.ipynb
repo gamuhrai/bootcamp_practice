{
 "cells": [
  {
   "cell_type": "code",
   "execution_count": 1,
   "metadata": {},
   "outputs": [],
   "source": [
    "%matplotlib inline"
   ]
  },
  {
   "cell_type": "code",
   "execution_count": 2,
   "metadata": {},
   "outputs": [],
   "source": [
    "import matplotlib.pyplot as plt\n",
    "import numpy as np"
   ]
  },
  {
   "cell_type": "code",
   "execution_count": 3,
   "metadata": {},
   "outputs": [],
   "source": [
    "temp = [14.2, 16.4, 11.9, 15.2, 18.5, 22.1, 19.4, 25.1, 23.4, 18.1, 22.6, 17.2]\n",
    "sales = [215, 325, 185, 332, 406, 522, 412, 614, 544, 421, 445, 408]\n"
   ]
  },
  {
   "cell_type": "code",
   "execution_count": 10,
   "metadata": {},
   "outputs": [
    {
     "data": {
      "image/png": "[encoded data removed]",
      "text/plain": [
       "<Figure size 432x288 with 1 Axes>"
      ]
     },
     "metadata": {
      "needs_background": "light"
     },
     "output_type": "display_data"
    }
   ],
   "source": [
    "# Tell matplotlib to create a scatter plot based upon the above data\n",
    "\n",
    "# Without scoop_price\n",
    "# plt.scatter(temp, sales, marker=\"o\", facecolors=\"red\", edgecolors=\"black\")\n",
    "\n",
    "# BONUS: With scoop_price set to the scalar value\n",
    "scoop_price = [89, 18, 10, 28, 79, 46, 29, 38, 89, 26, 45, 62]\n",
    "plt.scatter(temp, sales, marker=\"o\", facecolors=\"red\", edgecolors=\"black\", s=scoop_price)\n",
    "\n",
    "# Set the upper and lower limits of our y axis\n",
    "plt.ylim(180,620)\n",
    "\n",
    "# # Set the upper and lower limits of our x axis\n",
    "plt.xlim(11,26)\n",
    "\n",
    "# # Create a title, x label, and y label for our chart\n",
    "plt.title(\"Ice Cream Sales v Temperature\")\n",
    "plt.xlabel(\"Temperature (Celsius)\")\n",
    "plt.ylabel(\"Sales (Dollars)\")\n",
    "\n",
    "# # Save an image of the chart and print to screen\n",
    "# # NOTE: If your plot shrinks after saving an image,\n",
    "# # update matplotlib to 2.2 or higher,\n",
    "# # or simply run the above cells again.\n",
    "plt.savefig(\"../Images/IceCreamSales.png\")\n",
    "plt.show()\n"
   ]
  },
  {
   "cell_type": "code",
   "execution_count": 5,
   "metadata": {},
   "outputs": [
    {
     "data": {
      "text/plain": [
       "(180, 620)"
      ]
     },
     "execution_count": 5,
     "metadata": {},
     "output_type": "execute_result"
    }
   ],
   "source": [
    "# Set the upper and lower limits of our y axis\n",
    "plt.ylim(180,620)"
   ]
  },
  {
   "cell_type": "code",
   "execution_count": 6,
   "metadata": {},
   "outputs": [
    {
     "data": {
      "text/plain": [
       "(11, 26)"
      ]
     },
     "execution_count": 6,
     "metadata": {},
     "output_type": "execute_result"
    }
   ],
   "source": [
    "# Set the upper and lower limits of our x axis\n",
    "plt.xlim(11,26)"
   ]
  },
  {
   "cell_type": "code",
   "execution_count": 7,
   "metadata": {},
   "outputs": [
    {
     "data": {
      "text/plain": [
       "Text(0,0.5,'Sales (Dollars)')"
      ]
     },
     "execution_count": 7,
     "metadata": {},
     "output_type": "execute_result"
    }
   ],
   "source": [
    "# Create a title, x label, and y label for our chart\n",
    "plt.title(\"Ice Cream Sales v Temperature\")\n",
    "plt.xlabel(\"Temperature (Celsius)\")\n",
    "plt.ylabel(\"Sales (Dollars)\")\n",
    "\n"
   ]
  },
  {
   "cell_type": "code",
   "execution_count": 8,
   "metadata": {},
   "outputs": [],
   "source": [
    "# Save an image of the chart and print to screen\n",
    "# NOTE: If your plot shrinks after saving an image,\n",
    "# update matplotlib to 2.2 or higher,\n",
    "# or simply run the above cells again.\n",
    "plt.savefig(\"../Images/IceCreamSales.png\")\n",
    "plt.show()"
   ]
  },
  {
   "cell_type": "code",
   "execution_count": null,
   "metadata": {},
   "outputs": [],
   "source": []
  }
 ],
 "metadata": {
  "kernelspec": {
   "display_name": "PythonData",
   "language": "python",
   "name": "python3"
  },
  "language_info": {
   "codemirror_mode": {
    "name": "ipython",
    "version": 3
   },
   "file_extension": ".py",
   "mimetype": "text/x-python",
   "name": "python",
   "nbconvert_exporter": "python",
   "pygments_lexer": "ipython3",
   "version": "3.7.7"
  },
  "vscode": {
   "interpreter": {
    "hash": "8501cf379e24dba25282791ea873e09d57ff31c1f44cf4b5851777af84335da2"
   }
  }
 },
 "nbformat": 4,
 "nbformat_minor": 2
}
