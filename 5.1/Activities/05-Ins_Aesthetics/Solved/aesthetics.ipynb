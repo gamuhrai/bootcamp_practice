{
 "cells": [
  {
   "cell_type": "code",
   "execution_count": 1,
   "metadata": {},
   "outputs": [],
   "source": [
    "%matplotlib inline"
   ]
  },
  {
   "cell_type": "code",
   "execution_count": 2,
   "metadata": {},
   "outputs": [],
   "source": [
    "# Dependencies\n",
    "import matplotlib.pyplot as plt\n",
    "import numpy as np"
   ]
  },
  {
   "cell_type": "code",
   "execution_count": 3,
   "metadata": {},
   "outputs": [],
   "source": [
    "# Generate the x values from 0 to 10 using a step of 0.1\n",
    "x_axis = np.arange(0, 10, 0.1)\n",
    "sin = np.sin(x_axis)\n",
    "cos = np.cos(x_axis)"
   ]
  },
  {
   "cell_type": "code",
   "execution_count": 1,
   "metadata": {},
   "outputs": [
    {
     "ename": "NameError",
     "evalue": "name 'plt' is not defined",
     "output_type": "error",
     "traceback": [
      "\u001b[1;31m---------------------------------------------------------------------------\u001b[0m",
      "\u001b[1;31mNameError\u001b[0m                                 Traceback (most recent call last)",
      "Cell \u001b[1;32mIn[1], line 2\u001b[0m\n\u001b[0;32m      1\u001b[0m \u001b[39m# Add a semi-transparent horizontal line at y = 0\u001b[39;00m\n\u001b[1;32m----> 2\u001b[0m plt\u001b[39m.\u001b[39mhlines(\u001b[39m0\u001b[39m, \u001b[39m0\u001b[39m, \u001b[39m10\u001b[39m, alpha\u001b[39m=\u001b[39m\u001b[39m0.25\u001b[39m)\n\u001b[0;32m      4\u001b[0m \u001b[39m# Use dots or other markers for your plots, and change their colors\u001b[39;00m\n\u001b[0;32m      5\u001b[0m plt\u001b[39m.\u001b[39mplot(x_axis, sin, linewidth\u001b[39m=\u001b[39m\u001b[39m0\u001b[39m, marker\u001b[39m=\u001b[39m\u001b[39m\"\u001b[39m\u001b[39mo\u001b[39m\u001b[39m\"\u001b[39m, color\u001b[39m=\u001b[39m\u001b[39m\"\u001b[39m\u001b[39mblue\u001b[39m\u001b[39m\"\u001b[39m)\n",
      "\u001b[1;31mNameError\u001b[0m: name 'plt' is not defined"
     ]
    }
   ],
   "source": [
    "# Add a semi-transparent horizontal line at y = 0\n",
    "plt.hlines(0, 0, 10, alpha=0.25)\n",
    "\n",
    "# Use dots or other markers for your plots, and change their colors\n",
    "plt.plot(x_axis, sin, linewidth=0, marker=\"o\", color=\"blue\")\n",
    "plt.plot(x_axis, cos, linewidth=0, marker=\"^\", color=\"red\")\n",
    "\n",
    "# # # Add labels to the x and y axes\n",
    "plt.title(\"Coaster Speed Over Time\")\n",
    "plt.xlabel(\"Coaster Runtime\")\n",
    "plt.ylabel(\"Speed (MPH)\")\n",
    "\n",
    "# # # Set your x and y limits\n",
    "plt.xlim(0, 120)\n",
    "plt.ylim(0, 100)\n",
    "\n",
    "# # # Set a grid on the plot\n",
    "plt.grid()\n",
    "\n",
    "# # # Save the plot and display it\n",
    "plt.savefig(\"../Images/sin_cos_with_markers.png\")\n",
    "plt.show()\n"
   ]
  },
  {
   "cell_type": "code",
   "execution_count": null,
   "metadata": {},
   "outputs": [],
   "source": [
    "# Use dots or other markers for your plots, and change their colors\n",
    "plt.plot(x_axis, sin, linewidth=0, marker=\"o\", color=\"blue\")\n",
    "plt.plot(x_axis, cos, linewidth=0, marker=\"^\", color=\"red\")"
   ]
  },
  {
   "cell_type": "code",
   "execution_count": null,
   "metadata": {},
   "outputs": [],
   "source": [
    "# Add labels to the x and y axes\n",
    "plt.title(\"Juxtaposed Sine and Cosine Curves\")\n",
    "plt.xlabel(\"Input (Sampled Real Numbers from 0 to 10)\")\n",
    "plt.ylabel(\"Value of Sine (blue) and Cosine (red)\")"
   ]
  },
  {
   "cell_type": "code",
   "execution_count": null,
   "metadata": {},
   "outputs": [],
   "source": [
    "# Set your x and y limits\n",
    "plt.xlim(0, 10)\n",
    "plt.ylim(-1, 1)"
   ]
  },
  {
   "cell_type": "code",
   "execution_count": null,
   "metadata": {},
   "outputs": [],
   "source": [
    "# Set a grid on the plot\n",
    "plt.grid()"
   ]
  },
  {
   "cell_type": "code",
   "execution_count": null,
   "metadata": {},
   "outputs": [],
   "source": [
    "# Save the plot and display it\n",
    "plt.savefig(\"../Images/sin_cos_with_markers.png\")\n",
    "plt.show()"
   ]
  },
  {
   "cell_type": "code",
   "execution_count": null,
   "metadata": {},
   "outputs": [],
   "source": []
  }
 ],
 "metadata": {
  "kernelspec": {
   "display_name": "PythonData",
   "language": "python",
   "name": "python3"
  },
  "language_info": {
   "codemirror_mode": {
    "name": "ipython",
    "version": 3
   },
   "file_extension": ".py",
   "mimetype": "text/x-python",
   "name": "python",
   "nbconvert_exporter": "python",
   "pygments_lexer": "ipython3",
   "version": "3.10.12"
  },
  "vscode": {
   "interpreter": {
    "hash": "8501cf379e24dba25282791ea873e09d57ff31c1f44cf4b5851777af84335da2"
   }
  }
 },
 "nbformat": 4,
 "nbformat_minor": 2
}
