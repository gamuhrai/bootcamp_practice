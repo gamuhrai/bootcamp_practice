{
 "cells": [
  {
   "cell_type": "code",
   "execution_count": 1,
   "metadata": {},
   "outputs": [],
   "source": [
    "%matplotlib inline"
   ]
  },
  {
   "cell_type": "code",
   "execution_count": 2,
   "metadata": {},
   "outputs": [],
   "source": [
    "import matplotlib.pyplot as plt\n",
    "import numpy as np"
   ]
  },
  {
   "cell_type": "code",
   "execution_count": 3,
   "metadata": {},
   "outputs": [],
   "source": [
    "cities = [\"San Francisco\", \"Omaha\", \"New Orleans\", \"Cincinnati\", \"Pittsburgh\"]\n",
    "cars_in_cities = [214.7, 564.4, 416.5, 466.7, 350.6]\n",
    "x_axis = np.arange(len(cars_in_cities))"
   ]
  },
  {
   "cell_type": "code",
   "execution_count": 11,
   "metadata": {},
   "outputs": [
    {
     "data": {
      "image/png": "[encoded data removed]",
      "text/plain": [
       "<Figure size 432x288 with 1 Axes>"
      ]
     },
     "metadata": {
      "needs_background": "light"
     },
     "output_type": "display_data"
    }
   ],
   "source": [
    "# Create a bar chart based upon the above data\n",
    "plt.bar(x_axis, cars_in_cities, color=\"blue\", align=\"center\", alpha=0.5)\n",
    "\n",
    "# Create the ticks for our bar chart's x axis\n",
    "tick_locations = [value for value in x_axis]\n",
    "plt.xticks(tick_locations, cities)\n",
    "\n",
    "# # Set the limits of the x axis\n",
    "plt.xlim(-0.75, len(x_axis)-0.25)\n",
    "\n",
    "# # Set the limits of the y axis\n",
    "plt.ylim(0, max(cars_in_cities)+10)\n",
    "\n",
    "# # Give the chart a title, x label, and y label\n",
    "plt.title(\"Density of Commuting Cars in Cities\")\n",
    "plt.xlabel(\"Cities\")\n",
    "plt.ylabel(\"Commuting Cars Per 1,000 Population Age 16+\")\n",
    "\n",
    "# # Save an image of the chart and print it to the screen\n",
    "plt.savefig(\"../Images/CarDensity.png\")\n",
    "plt.show()\n"
   ]
  },
  {
   "cell_type": "code",
   "execution_count": 5,
   "metadata": {},
   "outputs": [
    {
     "data": {
      "text/plain": [
       "([<matplotlib.axis.XTick at 0x7f86c879f9a0>,\n",
       "  <matplotlib.axis.XTick at 0x7f86c879f970>,\n",
       "  <matplotlib.axis.XTick at 0x7f86c87924c0>,\n",
       "  <matplotlib.axis.XTick at 0x7f86da1b1fa0>,\n",
       "  <matplotlib.axis.XTick at 0x7f86da1c93d0>],\n",
       " [Text(0, 0, 'San Francisco'),\n",
       "  Text(1, 0, 'Omaha'),\n",
       "  Text(2, 0, 'New Orleans'),\n",
       "  Text(3, 0, 'Cincinnati'),\n",
       "  Text(4, 0, 'Pittsburgh')])"
      ]
     },
     "execution_count": 5,
     "metadata": {},
     "output_type": "execute_result"
    }
   ],
   "source": [
    "# Create the ticks for our bar chart's x axis\n",
    "tick_locations = [value for value in x_axis]\n",
    "plt.xticks(tick_locations, cities)"
   ]
  },
  {
   "cell_type": "code",
   "execution_count": 6,
   "metadata": {},
   "outputs": [
    {
     "data": {
      "text/plain": [
       "(-0.75, 4.75)"
      ]
     },
     "execution_count": 6,
     "metadata": {},
     "output_type": "execute_result"
    }
   ],
   "source": [
    "# Set the limits of the x axis\n",
    "plt.xlim(-0.75, len(x_axis)-0.25)"
   ]
  },
  {
   "cell_type": "code",
   "execution_count": 7,
   "metadata": {},
   "outputs": [
    {
     "data": {
      "text/plain": [
       "(0.0, 574.4)"
      ]
     },
     "execution_count": 7,
     "metadata": {},
     "output_type": "execute_result"
    }
   ],
   "source": [
    "# Set the limits of the y axis\n",
    "plt.ylim(0, max(cars_in_cities)+10)"
   ]
  },
  {
   "cell_type": "code",
   "execution_count": 8,
   "metadata": {},
   "outputs": [
    {
     "data": {
      "text/plain": [
       "Text(0, 0.5, 'Commuting Cars Per 1,000 Population Age 16+')"
      ]
     },
     "execution_count": 8,
     "metadata": {},
     "output_type": "execute_result"
    }
   ],
   "source": [
    "# Give the chart a title, x label, and y label\n",
    "plt.title(\"Density of Commuting Cars in Cities\")\n",
    "plt.xlabel(\"Cities\")\n",
    "plt.ylabel(\"Commuting Cars Per 1,000 Population Age 16+\")"
   ]
  },
  {
   "cell_type": "code",
   "execution_count": 9,
   "metadata": {},
   "outputs": [],
   "source": [
    "# Save an image of the chart and print it to the screen\n",
    "plt.savefig(\"../Images/CarDensity.png\")\n",
    "plt.show()"
   ]
  },
  {
   "cell_type": "code",
   "execution_count": null,
   "metadata": {},
   "outputs": [],
   "source": []
  }
 ],
 "metadata": {
  "kernelspec": {
   "display_name": "PythonData",
   "language": "python",
   "name": "python3"
  },
  "language_info": {
   "codemirror_mode": {
    "name": "ipython",
    "version": 3
   },
   "file_extension": ".py",
   "mimetype": "text/x-python",
   "name": "python",
   "nbconvert_exporter": "python",
   "pygments_lexer": "ipython3",
   "version": "3.7.7"
  },
  "vscode": {
   "interpreter": {
    "hash": "8501cf379e24dba25282791ea873e09d57ff31c1f44cf4b5851777af84335da2"
   }
  }
 },
 "nbformat": 4,
 "nbformat_minor": 2
}
