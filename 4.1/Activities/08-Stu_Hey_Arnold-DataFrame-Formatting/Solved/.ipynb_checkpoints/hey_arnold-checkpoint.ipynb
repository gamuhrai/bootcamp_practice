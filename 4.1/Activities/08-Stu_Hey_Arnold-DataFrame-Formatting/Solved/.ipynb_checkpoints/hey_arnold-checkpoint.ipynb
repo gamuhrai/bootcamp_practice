{
 "cells": [
  {
   "cell_type": "code",
   "execution_count": null,
   "metadata": {},
   "outputs": [],
   "source": [
    "# Dependencies\n",
    "import pandas as pd"
   ]
  },
  {
   "cell_type": "code",
   "execution_count": null,
   "metadata": {},
   "outputs": [],
   "source": [
    "# Create a DataFrame with given columns and value\n",
    "hey_arnold_df = pd.DataFrame(\n",
    "    {\"Character_in_show\": [\"Arnold\", \"Gerald\", \"Helga\", \"Phoebe\", \"Harold\", \"Eugene\"],\n",
    "     \"color_of_hair\": [\"blonde\", \"black\", \"blonde\", \"black\", \"unknown\", \"red\"],\n",
    "     \"Height\": [\"average\", \"tallish\", \"tallish\", \"short\", \"tall\", \"short\"],\n",
    "     \"Football_Shaped_Head\": [True, False, False, False, False, False]\n",
    "     })\n",
    "\n",
    "hey_arnold_df"
   ]
  },
  {
   "cell_type": "code",
   "execution_count": null,
   "metadata": {},
   "outputs": [],
   "source": [
    "# Rename columns for readability\n",
    "hey_arnold_renamed_df = hey_arnold_df.rename(columns={\"Character_in_show\": \"Character\",\n",
    "                                                \"color_of_hair\": \"Hair Color\",\n",
    "                                                \"Height\": \"Height\",\n",
    "                                                \"Football_Shaped_Head\": \"Football Head\"\n",
    "                                                })\n",
    "hey_arnold_renamed_df"
   ]
  },
  {
   "cell_type": "code",
   "execution_count": null,
   "metadata": {},
   "outputs": [],
   "source": [
    "# Organize the columns so they are in a more logical order\n",
    "hey_arnold_alphabetical_df = hey_arnold_renamed_df[[\n",
    "    \"Character\", \"Football Head\", \"Hair Color\", \"Height\"]]\n",
    "\n",
    "hey_arnold_alphabetical_df"
   ]
  },
  {
   "cell_type": "code",
   "execution_count": null,
   "metadata": {},
   "outputs": [],
   "source": []
  }
 ],
 "metadata": {
  "kernelspec": {
   "display_name": "Python 3 (ipykernel)",
   "language": "python",
   "name": "python3"
  },
  "language_info": {
   "codemirror_mode": {
    "name": "ipython",
    "version": 3
   },
   "file_extension": ".py",
   "mimetype": "text/x-python",
   "name": "python",
   "nbconvert_exporter": "python",
   "pygments_lexer": "ipython3",
   "version": "3.7.7"
  }
 },
 "nbformat": 4,
 "nbformat_minor": 2
}
