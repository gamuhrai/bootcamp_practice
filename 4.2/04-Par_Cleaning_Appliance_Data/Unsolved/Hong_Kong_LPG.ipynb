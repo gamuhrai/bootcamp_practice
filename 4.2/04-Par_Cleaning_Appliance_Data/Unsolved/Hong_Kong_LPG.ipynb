{
 "cells": [
  {
   "cell_type": "code",
   "execution_count": 1,
   "metadata": {},
   "outputs": [],
   "source": [
    "# Dependencies\n",
    "import pandas as pd\n",
    "from pathlib import Path"
   ]
  },
  {
   "cell_type": "code",
   "execution_count": 20,
   "metadata": {},
   "outputs": [
    {
     "data": {
      "text/html": [
       "<div>\n",
       "<style scoped>\n",
       "    .dataframe tbody tr th:only-of-type {\n",
       "        vertical-align: middle;\n",
       "    }\n",
       "\n",
       "    .dataframe tbody tr th {\n",
       "        vertical-align: top;\n",
       "    }\n",
       "\n",
       "    .dataframe thead th {\n",
       "        text-align: right;\n",
       "    }\n",
       "</style>\n",
       "<table border=\"1\" class=\"dataframe\">\n",
       "  <thead>\n",
       "    <tr style=\"text-align: right;\">\n",
       "      <th></th>\n",
       "      <th>Part</th>\n",
       "      <th>Type</th>\n",
       "      <th>Type.1</th>\n",
       "      <th>Brand</th>\n",
       "      <th>牌子</th>\n",
       "      <th>Model</th>\n",
       "      <th>Other Information</th>\n",
       "      <th>其他資料</th>\n",
       "      <th>Place of Manufacture</th>\n",
       "      <th>製造地點</th>\n",
       "      <th>Applicant</th>\n",
       "      <th>申請人</th>\n",
       "      <th>Telephone Number</th>\n",
       "      <th>Approval Expiry Date</th>\n",
       "    </tr>\n",
       "  </thead>\n",
       "  <tbody>\n",
       "    <tr>\n",
       "      <th>0</th>\n",
       "      <td>Part 1 – Approved Domestic Gas Cooking Appliances</td>\n",
       "      <td>Built-in Hotplate 1 Burner</td>\n",
       "      <td>嵌入式單頭平面爐</td>\n",
       "      <td>De Dietrich</td>\n",
       "      <td>NaN</td>\n",
       "      <td>DTG1288XC</td>\n",
       "      <td>CERAMIC GLASS TOP PANEL</td>\n",
       "      <td>陶瓷玻璃面版</td>\n",
       "      <td>Italy</td>\n",
       "      <td>意大利</td>\n",
       "      <td>Gilman Group Limited</td>\n",
       "      <td>太平洋行國際有限公司</td>\n",
       "      <td>2418 3272</td>\n",
       "      <td>2023-09-26</td>\n",
       "    </tr>\n",
       "    <tr>\n",
       "      <th>1</th>\n",
       "      <td>Part 1 – Approved Domestic Gas Cooking Appliances</td>\n",
       "      <td>Built-in Hotplate 1 Burner</td>\n",
       "      <td>嵌入式單頭平面爐</td>\n",
       "      <td>Electrolux</td>\n",
       "      <td>伊萊克斯</td>\n",
       "      <td>EGC-2901</td>\n",
       "      <td>CERAMIC GLASS TOP PANEL</td>\n",
       "      <td>陶瓷玻璃面版</td>\n",
       "      <td>The People's Republic of China</td>\n",
       "      <td>中華人民共和國</td>\n",
       "      <td>Dah Chong Hong, Ltd.</td>\n",
       "      <td>大昌貿易行有限公司</td>\n",
       "      <td>2262 1690</td>\n",
       "      <td>2024-06-24</td>\n",
       "    </tr>\n",
       "    <tr>\n",
       "      <th>2</th>\n",
       "      <td>Part 1 – Approved Domestic Gas Cooking Appliances</td>\n",
       "      <td>Built-in Hotplate 1 Burner</td>\n",
       "      <td>嵌入式單頭平面爐</td>\n",
       "      <td>Gaggenau</td>\n",
       "      <td>NaN</td>\n",
       "      <td>VG231120F</td>\n",
       "      <td>STAINLESS STEEL TOP PANEL</td>\n",
       "      <td>不銹鋼面版</td>\n",
       "      <td>France</td>\n",
       "      <td>法國</td>\n",
       "      <td>Kitchen Infinity Corp. Ltd.</td>\n",
       "      <td>Kitchen Infinity Corp. Ltd.</td>\n",
       "      <td>2552 2208</td>\n",
       "      <td>2024-04-01</td>\n",
       "    </tr>\n",
       "    <tr>\n",
       "      <th>3</th>\n",
       "      <td>Part 1 – Approved Domestic Gas Cooking Appliances</td>\n",
       "      <td>Built-in Hotplate 1 Burner</td>\n",
       "      <td>嵌入式單頭平面爐</td>\n",
       "      <td>Gaggenau</td>\n",
       "      <td>NaN</td>\n",
       "      <td>VG231114F</td>\n",
       "      <td>STAINLESS STEEL TOP PANEL</td>\n",
       "      <td>不銹鋼面版</td>\n",
       "      <td>France</td>\n",
       "      <td>法國</td>\n",
       "      <td>Kitchen Infinity Corp. Ltd.</td>\n",
       "      <td>Kitchen Infinity Corp. Ltd.</td>\n",
       "      <td>2552 2208</td>\n",
       "      <td>2022-07-19</td>\n",
       "    </tr>\n",
       "    <tr>\n",
       "      <th>4</th>\n",
       "      <td>Part 1 – Approved Domestic Gas Cooking Appliances</td>\n",
       "      <td>Built-in Hotplate 1 Burner</td>\n",
       "      <td>嵌入式單頭平面爐</td>\n",
       "      <td>GERMAN POOL</td>\n",
       "      <td>德國寶</td>\n",
       "      <td>GP12-1-LG</td>\n",
       "      <td>GLASS TOP PANEL</td>\n",
       "      <td>玻璃面版</td>\n",
       "      <td>The People's Republic of China</td>\n",
       "      <td>中華人民共和國</td>\n",
       "      <td>German Pool (Hong Kong) Ltd.</td>\n",
       "      <td>德國寶（香港）有限公司</td>\n",
       "      <td>2773 2812</td>\n",
       "      <td>2025-02-15</td>\n",
       "    </tr>\n",
       "  </tbody>\n",
       "</table>\n",
       "</div>"
      ],
      "text/plain": [
       "                                                Part  \\\n",
       "0  Part 1 – Approved Domestic Gas Cooking Appliances   \n",
       "1  Part 1 – Approved Domestic Gas Cooking Appliances   \n",
       "2  Part 1 – Approved Domestic Gas Cooking Appliances   \n",
       "3  Part 1 – Approved Domestic Gas Cooking Appliances   \n",
       "4  Part 1 – Approved Domestic Gas Cooking Appliances   \n",
       "\n",
       "                         Type    Type.1        Brand    牌子      Model  \\\n",
       "0  Built-in Hotplate 1 Burner  嵌入式單頭平面爐  De Dietrich   NaN  DTG1288XC   \n",
       "1  Built-in Hotplate 1 Burner  嵌入式單頭平面爐   Electrolux  伊萊克斯   EGC-2901   \n",
       "2  Built-in Hotplate 1 Burner  嵌入式單頭平面爐     Gaggenau   NaN  VG231120F   \n",
       "3  Built-in Hotplate 1 Burner  嵌入式單頭平面爐     Gaggenau   NaN  VG231114F   \n",
       "4  Built-in Hotplate 1 Burner  嵌入式單頭平面爐  GERMAN POOL   德國寶  GP12-1-LG   \n",
       "\n",
       "           Other Information    其他資料            Place of Manufacture     製造地點  \\\n",
       "0    CERAMIC GLASS TOP PANEL  陶瓷玻璃面版                           Italy      意大利   \n",
       "1    CERAMIC GLASS TOP PANEL  陶瓷玻璃面版  The People's Republic of China  中華人民共和國   \n",
       "2  STAINLESS STEEL TOP PANEL   不銹鋼面版                          France       法國   \n",
       "3  STAINLESS STEEL TOP PANEL   不銹鋼面版                          France       法國   \n",
       "4            GLASS TOP PANEL    玻璃面版  The People's Republic of China  中華人民共和國   \n",
       "\n",
       "                      Applicant                          申請人 Telephone Number  \\\n",
       "0          Gilman Group Limited                   太平洋行國際有限公司        2418 3272   \n",
       "1          Dah Chong Hong, Ltd.                    大昌貿易行有限公司        2262 1690   \n",
       "2   Kitchen Infinity Corp. Ltd.  Kitchen Infinity Corp. Ltd.        2552 2208   \n",
       "3   Kitchen Infinity Corp. Ltd.  Kitchen Infinity Corp. Ltd.        2552 2208   \n",
       "4  German Pool (Hong Kong) Ltd.                  德國寶（香港）有限公司        2773 2812   \n",
       "\n",
       "  Approval Expiry Date  \n",
       "0           2023-09-26  \n",
       "1           2024-06-24  \n",
       "2           2024-04-01  \n",
       "3           2022-07-19  \n",
       "4           2025-02-15  "
      ]
     },
     "execution_count": 20,
     "metadata": {},
     "output_type": "execute_result"
    }
   ],
   "source": [
    "# Reference the file where the CSV is located\n",
    "file = Path('..', 'Resources/dga_lpg.csv')\n",
    "\n",
    "# Import the data into a Pandas DataFrame\n",
    "hk_df = pd.read_csv(file, encoding=\"utf-8\")\n",
    "hk_df.head()"
   ]
  },
  {
   "cell_type": "code",
   "execution_count": 21,
   "metadata": {},
   "outputs": [
    {
     "ename": "KeyError",
     "evalue": "('牌子', '其他資料', '製造地點', '申請人')",
     "output_type": "error",
     "traceback": [
      "\u001b[1;31m---------------------------------------------------------------------------\u001b[0m",
      "\u001b[1;31mKeyError\u001b[0m                                  Traceback (most recent call last)",
      "File \u001b[1;32mc:\\Users\\KING\\anaconda3\\envs\\pythonEnvironment\\lib\\site-packages\\pandas\\core\\indexes\\base.py:3802\u001b[0m, in \u001b[0;36mIndex.get_loc\u001b[1;34m(self, key, method, tolerance)\u001b[0m\n\u001b[0;32m   3801\u001b[0m \u001b[39mtry\u001b[39;00m:\n\u001b[1;32m-> 3802\u001b[0m     \u001b[39mreturn\u001b[39;00m \u001b[39mself\u001b[39;49m\u001b[39m.\u001b[39;49m_engine\u001b[39m.\u001b[39;49mget_loc(casted_key)\n\u001b[0;32m   3803\u001b[0m \u001b[39mexcept\u001b[39;00m \u001b[39mKeyError\u001b[39;00m \u001b[39mas\u001b[39;00m err:\n",
      "File \u001b[1;32mc:\\Users\\KING\\anaconda3\\envs\\pythonEnvironment\\lib\\site-packages\\pandas\\_libs\\index.pyx:138\u001b[0m, in \u001b[0;36mpandas._libs.index.IndexEngine.get_loc\u001b[1;34m()\u001b[0m\n",
      "File \u001b[1;32mc:\\Users\\KING\\anaconda3\\envs\\pythonEnvironment\\lib\\site-packages\\pandas\\_libs\\index.pyx:165\u001b[0m, in \u001b[0;36mpandas._libs.index.IndexEngine.get_loc\u001b[1;34m()\u001b[0m\n",
      "File \u001b[1;32mpandas\\_libs\\hashtable_class_helper.pxi:5745\u001b[0m, in \u001b[0;36mpandas._libs.hashtable.PyObjectHashTable.get_item\u001b[1;34m()\u001b[0m\n",
      "File \u001b[1;32mpandas\\_libs\\hashtable_class_helper.pxi:5753\u001b[0m, in \u001b[0;36mpandas._libs.hashtable.PyObjectHashTable.get_item\u001b[1;34m()\u001b[0m\n",
      "\u001b[1;31mKeyError\u001b[0m: ('牌子', '其他資料', '製造地點', '申請人')",
      "\nThe above exception was the direct cause of the following exception:\n",
      "\u001b[1;31mKeyError\u001b[0m                                  Traceback (most recent call last)",
      "Cell \u001b[1;32mIn[21], line 2\u001b[0m\n\u001b[0;32m      1\u001b[0m \u001b[39m# Reduce to columns that are in English\u001b[39;00m\n\u001b[1;32m----> 2\u001b[0m \u001b[39mdel\u001b[39;00m hk_df[\u001b[39m'\u001b[39m\u001b[39m牌子\u001b[39m\u001b[39m'\u001b[39m,\u001b[39m'\u001b[39m\u001b[39m其他資料\u001b[39m\u001b[39m'\u001b[39m,\u001b[39m'\u001b[39m\u001b[39m製造地點\u001b[39m\u001b[39m'\u001b[39m,\u001b[39m'\u001b[39m\u001b[39m申請人\u001b[39m\u001b[39m'\u001b[39m]\n\u001b[0;32m      3\u001b[0m hk_df\u001b[39m.\u001b[39mhead()\n",
      "File \u001b[1;32mc:\\Users\\KING\\anaconda3\\envs\\pythonEnvironment\\lib\\site-packages\\pandas\\core\\generic.py:4243\u001b[0m, in \u001b[0;36mNDFrame.__delitem__\u001b[1;34m(self, key)\u001b[0m\n\u001b[0;32m   4238\u001b[0m             deleted \u001b[39m=\u001b[39m \u001b[39mTrue\u001b[39;00m\n\u001b[0;32m   4239\u001b[0m \u001b[39mif\u001b[39;00m \u001b[39mnot\u001b[39;00m deleted:\n\u001b[0;32m   4240\u001b[0m     \u001b[39m# If the above loop ran and didn't delete anything because\u001b[39;00m\n\u001b[0;32m   4241\u001b[0m     \u001b[39m# there was no match, this call should raise the appropriate\u001b[39;00m\n\u001b[0;32m   4242\u001b[0m     \u001b[39m# exception:\u001b[39;00m\n\u001b[1;32m-> 4243\u001b[0m     loc \u001b[39m=\u001b[39m \u001b[39mself\u001b[39;49m\u001b[39m.\u001b[39;49maxes[\u001b[39m-\u001b[39;49m\u001b[39m1\u001b[39;49m]\u001b[39m.\u001b[39;49mget_loc(key)\n\u001b[0;32m   4244\u001b[0m     \u001b[39mself\u001b[39m\u001b[39m.\u001b[39m_mgr \u001b[39m=\u001b[39m \u001b[39mself\u001b[39m\u001b[39m.\u001b[39m_mgr\u001b[39m.\u001b[39midelete(loc)\n\u001b[0;32m   4246\u001b[0m \u001b[39m# delete from the caches\u001b[39;00m\n",
      "File \u001b[1;32mc:\\Users\\KING\\anaconda3\\envs\\pythonEnvironment\\lib\\site-packages\\pandas\\core\\indexes\\base.py:3804\u001b[0m, in \u001b[0;36mIndex.get_loc\u001b[1;34m(self, key, method, tolerance)\u001b[0m\n\u001b[0;32m   3802\u001b[0m     \u001b[39mreturn\u001b[39;00m \u001b[39mself\u001b[39m\u001b[39m.\u001b[39m_engine\u001b[39m.\u001b[39mget_loc(casted_key)\n\u001b[0;32m   3803\u001b[0m \u001b[39mexcept\u001b[39;00m \u001b[39mKeyError\u001b[39;00m \u001b[39mas\u001b[39;00m err:\n\u001b[1;32m-> 3804\u001b[0m     \u001b[39mraise\u001b[39;00m \u001b[39mKeyError\u001b[39;00m(key) \u001b[39mfrom\u001b[39;00m \u001b[39merr\u001b[39;00m\n\u001b[0;32m   3805\u001b[0m \u001b[39mexcept\u001b[39;00m \u001b[39mTypeError\u001b[39;00m:\n\u001b[0;32m   3806\u001b[0m     \u001b[39m# If we have a listlike key, _check_indexing_error will raise\u001b[39;00m\n\u001b[0;32m   3807\u001b[0m     \u001b[39m#  InvalidIndexError. Otherwise we fall through and re-raise\u001b[39;00m\n\u001b[0;32m   3808\u001b[0m     \u001b[39m#  the TypeError.\u001b[39;00m\n\u001b[0;32m   3809\u001b[0m     \u001b[39mself\u001b[39m\u001b[39m.\u001b[39m_check_indexing_error(key)\n",
      "\u001b[1;31mKeyError\u001b[0m: ('牌子', '其他資料', '製造地點', '申請人')"
     ]
    }
   ],
   "source": [
    "# Reduce to columns that are in English\n",
    "del hk_df['牌子','其他資料','製造地點','申請人']\n",
    "hk_df.head()"
   ]
  },
  {
   "cell_type": "code",
   "execution_count": 4,
   "metadata": {},
   "outputs": [],
   "source": [
    "# Look for missing values\n"
   ]
  },
  {
   "cell_type": "code",
   "execution_count": 5,
   "metadata": {},
   "outputs": [],
   "source": [
    "# Drop null rows\n"
   ]
  },
  {
   "cell_type": "code",
   "execution_count": 6,
   "metadata": {},
   "outputs": [],
   "source": [
    "# Verify counts\n"
   ]
  },
  {
   "cell_type": "code",
   "execution_count": 7,
   "metadata": {},
   "outputs": [],
   "source": [
    "# List unique values of \"Applicant\" to locate any that may be the same\n"
   ]
  },
  {
   "cell_type": "code",
   "execution_count": 8,
   "metadata": {},
   "outputs": [],
   "source": [
    "# Combine similar applicants together\n"
   ]
  },
  {
   "cell_type": "code",
   "execution_count": 9,
   "metadata": {},
   "outputs": [],
   "source": [
    "# Check to see if you combined similar applicants correctly in \"Applicant\"\n"
   ]
  },
  {
   "cell_type": "code",
   "execution_count": 10,
   "metadata": {},
   "outputs": [],
   "source": [
    "# Create a new DataFrame that looks into a specific Place of Manufacture\n"
   ]
  },
  {
   "cell_type": "code",
   "execution_count": 11,
   "metadata": {},
   "outputs": [],
   "source": [
    "# Create a new DataFrame that looks into a specific Place of Manufacture\n"
   ]
  },
  {
   "cell_type": "code",
   "execution_count": null,
   "metadata": {},
   "outputs": [],
   "source": []
  }
 ],
 "metadata": {
  "kernelspec": {
   "display_name": "Python 3 (ipykernel)",
   "language": "python",
   "name": "python3"
  },
  "language_info": {
   "codemirror_mode": {
    "name": "ipython",
    "version": 3
   },
   "file_extension": ".py",
   "mimetype": "text/x-python",
   "name": "python",
   "nbconvert_exporter": "python",
   "pygments_lexer": "ipython3",
   "version": "3.10.12"
  }
 },
 "nbformat": 4,
 "nbformat_minor": 2
}
